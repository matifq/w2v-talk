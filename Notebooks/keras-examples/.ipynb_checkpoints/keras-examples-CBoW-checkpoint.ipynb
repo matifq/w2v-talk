{
 "cells": [
  {
   "cell_type": "code",
   "execution_count": 1,
   "metadata": {},
   "outputs": [],
   "source": [
    "# !pip install keras\n",
    "# !pip install tensorflow"
   ]
  },
  {
   "cell_type": "code",
   "execution_count": 2,
   "metadata": {},
   "outputs": [
    {
     "name": "stderr",
     "output_type": "stream",
     "text": [
      "Using TensorFlow backend.\n"
     ]
    }
   ],
   "source": [
    "import numpy as np\n",
    "np.random.seed(13)\n",
    "\n",
    "import keras.backend as K\n",
    "from keras.models import Sequential\n",
    "from keras.layers import Dense, Embedding, Lambda\n",
    "from keras.utils.data_utils import get_file\n",
    "from keras.utils import np_utils\n",
    "from keras.preprocessing import sequence\n",
    "from keras.preprocessing.text import Tokenizer\n",
    "\n",
    "import gensim"
   ]
  },
  {
   "cell_type": "code",
   "execution_count": 3,
   "metadata": {},
   "outputs": [],
   "source": [
    "path=get_file('alice.txt', origin='http://www.gutenberg.org/files/11/11-0.txt')\n",
    "corpus = open(path).readlines()[:300]\n",
    "corpus = [sentence for sentence in corpus if sentence.count(' ') >= 2]\n",
    "\n",
    "tokenizer = Tokenizer()\n",
    "tokenizer.fit_on_texts(corpus)\n",
    "corpus = tokenizer.texts_to_sequences(corpus)\n",
    "nb_samples = sum(len(s) for s in corpus)\n",
    "V = len(tokenizer.word_index) + 1\n",
    "dim = 100\n",
    "window_size = 2\n"
   ]
  },
  {
   "cell_type": "code",
   "execution_count": 4,
   "metadata": {},
   "outputs": [],
   "source": [
    "def generate_data(corpus, window_size, V):\n",
    "    maxlen = window_size*2\n",
    "    for words in corpus:\n",
    "        L = len(words)\n",
    "        for index, word in enumerate(words):\n",
    "            contexts = []\n",
    "            labels   = []            \n",
    "            s = index - window_size\n",
    "            e = index + window_size + 1\n",
    "            \n",
    "            contexts.append([words[i] for i in range(s, e) if 0 <= i < L and i != index])\n",
    "            labels.append(word)\n",
    "\n",
    "            x = sequence.pad_sequences(contexts, maxlen=maxlen)\n",
    "            y = np_utils.to_categorical(labels, V)\n",
    "            yield (x, y)"
   ]
  },
  {
   "cell_type": "code",
   "execution_count": 5,
   "metadata": {},
   "outputs": [],
   "source": [
    "cbow = Sequential()\n",
    "cbow.add(Embedding(input_dim=V, output_dim=dim, input_length=window_size*2))\n",
    "cbow.add(Lambda(lambda x: K.mean(x, axis=1), output_shape=(dim,)))\n",
    "cbow.add(Dense(V, activation='softmax'))"
   ]
  },
  {
   "cell_type": "code",
   "execution_count": 6,
   "metadata": {},
   "outputs": [
    {
     "data": {
      "text/plain": [
       "[<keras.layers.embeddings.Embedding at 0x7fed6f1accf8>,\n",
       " <keras.layers.core.Lambda at 0x7fed6f1acb38>,\n",
       " <keras.layers.core.Dense at 0x7fed6f1acf60>]"
      ]
     },
     "execution_count": 6,
     "metadata": {},
     "output_type": "execute_result"
    }
   ],
   "source": [
    "cbow.layers"
   ]
  },
  {
   "cell_type": "code",
   "execution_count": 7,
   "metadata": {},
   "outputs": [],
   "source": [
    "cbow.compile(loss='categorical_crossentropy', optimizer='adadelta')"
   ]
  },
  {
   "cell_type": "code",
   "execution_count": 8,
   "metadata": {},
   "outputs": [
    {
     "data": {
      "text/plain": [
       "[[348, 349, 65, 115, 10, 116, 57, 196, 197],\n",
       " [22, 117, 66, 17, 1, 67, 8, 350, 351, 29, 38, 352, 4, 27],\n",
       " [146, 38, 353, 354, 16, 355, 356, 5, 198, 5, 147, 32],\n",
       " [357, 67, 5, 118, 1, 358, 8, 1, 199, 148, 359, 360],\n",
       " [27, 22, 117, 32, 361, 29, 362, 148, 363]]"
      ]
     },
     "execution_count": 8,
     "metadata": {},
     "output_type": "execute_result"
    }
   ],
   "source": [
    "corpus[:5]"
   ]
  },
  {
   "cell_type": "code",
   "execution_count": 9,
   "metadata": {},
   "outputs": [
    {
     "name": "stdout",
     "output_type": "stream",
     "text": [
      " 0 [[  0   0 349  65]] (1, 765)\n",
      " 1 [[  0 348  65 115]] (1, 765)\n",
      " 2 [[348 349 115  10]] (1, 765)\n",
      " 3 [[349  65  10 116]] (1, 765)\n",
      "2786\n",
      "0 17412.5700237751\n",
      " 0 [[  0   0 349  65]] (1, 765)\n",
      " 1 [[  0 348  65 115]] (1, 765)\n",
      " 2 [[348 349 115  10]] (1, 765)\n",
      " 3 [[349  65  10 116]] (1, 765)\n",
      "2786\n",
      "1 16152.255005836487\n",
      " 0 [[  0   0 349  65]] (1, 765)\n",
      " 1 [[  0 348  65 115]] (1, 765)\n",
      " 2 [[348 349 115  10]] (1, 765)\n",
      " 3 [[349  65  10 116]] (1, 765)\n",
      "2786\n",
      "2 16024.153420567513\n",
      " 0 [[  0   0 349  65]] (1, 765)\n",
      " 1 [[  0 348  65 115]] (1, 765)\n",
      " 2 [[348 349 115  10]] (1, 765)\n",
      " 3 [[349  65  10 116]] (1, 765)\n",
      "2786\n",
      "3 15933.20086157322\n",
      " 0 [[  0   0 349  65]] (1, 765)\n",
      " 1 [[  0 348  65 115]] (1, 765)\n",
      " 2 [[348 349 115  10]] (1, 765)\n",
      " 3 [[349  65  10 116]] (1, 765)\n",
      "2786\n",
      "4 15825.323416352272\n",
      " 0 [[  0   0 349  65]] (1, 765)\n",
      " 1 [[  0 348  65 115]] (1, 765)\n",
      " 2 [[348 349 115  10]] (1, 765)\n",
      " 3 [[349  65  10 116]] (1, 765)\n",
      "2786\n",
      "5 15722.679160535336\n",
      " 0 [[  0   0 349  65]] (1, 765)\n",
      " 1 [[  0 348  65 115]] (1, 765)\n",
      " 2 [[348 349 115  10]] (1, 765)\n",
      " 3 [[349  65  10 116]] (1, 765)\n",
      "2786\n",
      "6 15632.638341248035\n",
      " 0 [[  0   0 349  65]] (1, 765)\n",
      " 1 [[  0 348  65 115]] (1, 765)\n",
      " 2 [[348 349 115  10]] (1, 765)\n",
      " 3 [[349  65  10 116]] (1, 765)\n",
      "2786\n",
      "7 15551.513814777136\n",
      " 0 [[  0   0 349  65]] (1, 765)\n",
      " 1 [[  0 348  65 115]] (1, 765)\n",
      " 2 [[348 349 115  10]] (1, 765)\n",
      " 3 [[349  65  10 116]] (1, 765)\n",
      "2786\n",
      "8 15473.663314267993\n",
      " 0 [[  0   0 349  65]] (1, 765)\n",
      " 1 [[  0 348  65 115]] (1, 765)\n",
      " 2 [[348 349 115  10]] (1, 765)\n",
      " 3 [[349  65  10 116]] (1, 765)\n",
      "2786\n",
      "9 15396.44907706976\n"
     ]
    }
   ],
   "source": [
    "for ite in range(10):\n",
    "    loss = 0.\n",
    "    for i, (x, y) in enumerate(generate_data(corpus, window_size, V)):\n",
    "        if i<4:\n",
    "            print('', i, x, y.shape)\n",
    "        loss += cbow.train_on_batch(x, y)\n",
    "    print(i)\n",
    "\n",
    "    print(ite, loss)"
   ]
  },
  {
   "cell_type": "code",
   "execution_count": 15,
   "metadata": {},
   "outputs": [
    {
     "data": {
      "text/plain": [
       "8"
      ]
     },
     "execution_count": 15,
     "metadata": {},
     "output_type": "execute_result"
    }
   ],
   "source": [
    "f = open('vectors-cbow.txt' ,'w')\n",
    "f.write('{} {}\\n'.format(V-1, dim))"
   ]
  },
  {
   "cell_type": "code",
   "execution_count": 20,
   "metadata": {},
   "outputs": [
    {
     "ename": "ValueError",
     "evalue": "I/O operation on closed file.",
     "output_type": "error",
     "traceback": [
      "\u001b[0;31m---------------------------------------------------------------------------\u001b[0m",
      "\u001b[0;31mValueError\u001b[0m                                Traceback (most recent call last)",
      "\u001b[0;32m<ipython-input-20-9fe3d3289573>\u001b[0m in \u001b[0;36m<module>\u001b[0;34m()\u001b[0m\n\u001b[1;32m      2\u001b[0m \u001b[0;32mfor\u001b[0m \u001b[0mword\u001b[0m\u001b[0;34m,\u001b[0m \u001b[0mi\u001b[0m \u001b[0;32min\u001b[0m \u001b[0mtokenizer\u001b[0m\u001b[0;34m.\u001b[0m\u001b[0mword_index\u001b[0m\u001b[0;34m.\u001b[0m\u001b[0mitems\u001b[0m\u001b[0;34m(\u001b[0m\u001b[0;34m)\u001b[0m\u001b[0;34m:\u001b[0m\u001b[0;34m\u001b[0m\u001b[0m\n\u001b[1;32m      3\u001b[0m     \u001b[0mstr_vec\u001b[0m \u001b[0;34m=\u001b[0m \u001b[0;34m' '\u001b[0m\u001b[0;34m.\u001b[0m\u001b[0mjoin\u001b[0m\u001b[0;34m(\u001b[0m\u001b[0mmap\u001b[0m\u001b[0;34m(\u001b[0m\u001b[0mstr\u001b[0m\u001b[0;34m,\u001b[0m \u001b[0mlist\u001b[0m\u001b[0;34m(\u001b[0m\u001b[0mvectors\u001b[0m\u001b[0;34m[\u001b[0m\u001b[0mi\u001b[0m\u001b[0;34m,\u001b[0m \u001b[0;34m:\u001b[0m\u001b[0;34m]\u001b[0m\u001b[0;34m)\u001b[0m\u001b[0;34m)\u001b[0m\u001b[0;34m)\u001b[0m\u001b[0;34m\u001b[0m\u001b[0m\n\u001b[0;32m----> 4\u001b[0;31m     \u001b[0mf\u001b[0m\u001b[0;34m.\u001b[0m\u001b[0mwrite\u001b[0m\u001b[0;34m(\u001b[0m\u001b[0;34m'{} {}\\n'\u001b[0m\u001b[0;34m.\u001b[0m\u001b[0mformat\u001b[0m\u001b[0;34m(\u001b[0m\u001b[0mword\u001b[0m\u001b[0;34m.\u001b[0m\u001b[0mstrip\u001b[0m\u001b[0;34m(\u001b[0m\u001b[0;34m)\u001b[0m\u001b[0;34m,\u001b[0m \u001b[0mstr_vec\u001b[0m\u001b[0;34m)\u001b[0m\u001b[0;34m)\u001b[0m\u001b[0;34m\u001b[0m\u001b[0m\n\u001b[0m\u001b[1;32m      5\u001b[0m \u001b[0mf\u001b[0m\u001b[0;34m.\u001b[0m\u001b[0mclose\u001b[0m\u001b[0;34m(\u001b[0m\u001b[0;34m)\u001b[0m\u001b[0;34m\u001b[0m\u001b[0m\n",
      "\u001b[0;31mValueError\u001b[0m: I/O operation on closed file."
     ]
    }
   ],
   "source": [
    "vectors = cbow.get_weights()[0]\n",
    "for word, i in tokenizer.word_index.items():\n",
    "    str_vec = ' '.join(map(str, list(vectors[i, :])))\n",
    "    f.write('{} {}\\n'.format(word, str_vec))\n",
    "f.close()"
   ]
  },
  {
   "cell_type": "code",
   "execution_count": 17,
   "metadata": {},
   "outputs": [],
   "source": [
    "w2v = gensim.models.KeyedVectors.load_word2vec_format('./vectors-cbow.txt', binary=False)"
   ]
  },
  {
   "cell_type": "code",
   "execution_count": 18,
   "metadata": {},
   "outputs": [
    {
     "data": {
      "text/plain": [
       "[('a', 0.6486876010894775),\n",
       " ('one', 0.6459566354751587),\n",
       " ('this', 0.5973973274230957),\n",
       " ('adventures', 0.5596767663955688),\n",
       " ('alice’s', 0.5595484972000122),\n",
       " ('any', 0.5506154298782349),\n",
       " ('those', 0.5317624807357788),\n",
       " ('miles', 0.5270207524299622),\n",
       " ('help', 0.5243602991104126),\n",
       " ('no', 0.5234998464584351)]"
      ]
     },
     "execution_count": 18,
     "metadata": {},
     "output_type": "execute_result"
    }
   ],
   "source": [
    "w2v.most_similar(positive=['the'])"
   ]
  },
  {
   "cell_type": "code",
   "execution_count": 19,
   "metadata": {},
   "outputs": [
    {
     "data": {
      "text/plain": [
       "[('she', 0.6102245450019836),\n",
       " ('you', 0.6003879904747009),\n",
       " ('poor', 0.5682523250579834),\n",
       " ('them', 0.5612143874168396),\n",
       " ('that', 0.5536033511161804),\n",
       " ('eat', 0.5530521869659424),\n",
       " ('now', 0.5518888235092163),\n",
       " ('dark', 0.548552393913269),\n",
       " ('marked', 0.548235297203064),\n",
       " ('thought', 0.5456331968307495)]"
      ]
     },
     "execution_count": 19,
     "metadata": {},
     "output_type": "execute_result"
    }
   ],
   "source": [
    "w2v.most_similar(positive=['alice'])"
   ]
  },
  {
   "cell_type": "code",
   "execution_count": null,
   "metadata": {},
   "outputs": [],
   "source": []
  }
 ],
 "metadata": {
  "kernelspec": {
   "display_name": "Python 3",
   "language": "python",
   "name": "python3"
  },
  "language_info": {
   "codemirror_mode": {
    "name": "ipython",
    "version": 3
   },
   "file_extension": ".py",
   "mimetype": "text/x-python",
   "name": "python",
   "nbconvert_exporter": "python",
   "pygments_lexer": "ipython3",
   "version": "3.6.3"
  }
 },
 "nbformat": 4,
 "nbformat_minor": 2
}
